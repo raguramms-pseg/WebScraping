{
 "cells": [
  {
   "cell_type": "markdown",
   "metadata": {},
   "source": [
    "# Module 12 Challenge\n",
    "## Deliverable 1: Scrape Titles and Preview Text from Mars News"
   ]
  },
  {
   "cell_type": "code",
   "execution_count": 20,
   "metadata": {},
   "outputs": [],
   "source": [
    "# Import Splinter and BeautifulSoup\n",
    "from splinter import Browser\n",
    "from bs4 import BeautifulSoup as soup\n",
    "import pprint as prep"
   ]
  },
  {
   "cell_type": "code",
   "execution_count": 21,
   "metadata": {
    "scrolled": true
   },
   "outputs": [],
   "source": [
    "browser = Browser()"
   ]
  },
  {
   "cell_type": "markdown",
   "metadata": {},
   "source": [
    "### Step 1: Visit the Website\n",
    "\n",
    "1. Use automated browsing to visit the [Mars news site](https://static.bc-edx.com/data/web/mars_news/index.html). Inspect the page to identify which elements to scrape.\n",
    "\n",
    "      > **Hint** To identify which elements to scrape, you might want to inspect the page by using Chrome DevTools."
   ]
  },
  {
   "cell_type": "code",
   "execution_count": 22,
   "metadata": {},
   "outputs": [],
   "source": [
    "# Visit the Mars news site\n",
    "url = 'https://static.bc-edx.com/data/web/mars_news/index.html'\n",
    "browser.visit(url)\n",
    "\n",
    "# Optional delay for loading the page\n",
    "browser.is_element_present_by_css('div.list_text', wait_time=1)\n",
    "html = browser.html"
   ]
  },
  {
   "cell_type": "markdown",
   "metadata": {},
   "source": [
    "### Step 2: Scrape the Website\n",
    "\n",
    "Create a Beautiful Soup object and use it to extract text elements from the website."
   ]
  },
  {
   "cell_type": "code",
   "execution_count": 11,
   "metadata": {},
   "outputs": [
    {
     "data": {
      "text/plain": [
       "[<div class=\"content_title\">NASA's MAVEN Observes Martian Light Show Caused by Major Solar Storm</div>,\n",
       " <div class=\"content_title\">NASA Prepares to Say 'Farewell' to InSight Spacecraft</div>,\n",
       " <div class=\"content_title\">NASA and ESA Agree on Next Steps to Return Mars Samples to Earth</div>,\n",
       " <div class=\"content_title\">NASA's InSight Lander Detects Stunning Meteoroid Impact on Mars</div>,\n",
       " <div class=\"content_title\">NASA To Host Briefing on InSight, Mars Reconnaissance Orbiter Findings</div>,\n",
       " <div class=\"content_title\">Why NASA Is Trying To Crash Land on Mars</div>,\n",
       " <div class=\"content_title\">Curiosity Mars Rover Reaches Long-Awaited Salty Region</div>,\n",
       " <div class=\"content_title\">Mars Mission Shields Up for Tests</div>,\n",
       " <div class=\"content_title\">NASA's InSight Waits Out Dust Storm</div>,\n",
       " <div class=\"content_title\">NASA's InSight 'Hears' Its First Meteoroid Impacts on Mars</div>,\n",
       " <div class=\"content_title\">NASA's Perseverance Rover Investigates Geologically Rich Mars Terrain</div>,\n",
       " <div class=\"content_title\">NASA to Host Briefing on Perseverance Mars Rover Mission Operations</div>,\n",
       " <div class=\"content_title\">NASA's Perseverance Makes New Discoveries in Mars' Jezero Crater</div>,\n",
       " <div class=\"content_title\">10 Years Since Landing, NASA's Curiosity Mars Rover Still Has Drive</div>,\n",
       " <div class=\"content_title\">SAM's Top 5 Discoveries Aboard NASA's Curiosity Rover at Mars</div>]"
      ]
     },
     "execution_count": 11,
     "metadata": {},
     "output_type": "execute_result"
    }
   ],
   "source": [
    "# Create a Beautiful Soup object\n",
    "soup_marsnews = soup(html, 'html.parser')\n",
    "soup_marsnews\n",
    "\n",
    "elements = soup_marsnews.find_all('div',class_ = 'list_text')\n",
    "elements\n",
    "\n",
    "\n",
    "\n",
    "ele = soup_marsnews.find_all('div', class_='article_teaser_body')\n",
    "ele_list = [x.text for x in ele]\n",
    "ele_list\n",
    "\n",
    "\n",
    "\n",
    "title_elements = soup_marsnews.find_all('div',class_ = \"content_title\")\n",
    "title_elements_list = [x for x in title_elements]\n",
    "title_elements_list\n"
   ]
  },
  {
   "cell_type": "code",
   "execution_count": 15,
   "metadata": {},
   "outputs": [
    {
     "name": "stdout",
     "output_type": "stream",
     "text": [
      "News - Mars Exploration Program\n",
      "MARS Planet Science\n",
      "Exploration Program\n",
      "The Red Planet\n",
      "The Program\n",
      "News & Events\n",
      "Multimedia\n",
      "Missions\n",
      "More\n",
      "News\n",
      "Latest\n",
      "All Categories\n",
      "November 9, 2022\n",
      "NASA's MAVEN Observes Martian Light Show Caused by Major Solar Storm\n",
      "For the first time in its eight years orbiting Mars, NASA’s MAVEN mission witnessed two different types of ultraviolet aurorae simultaneously, the result of solar storms that began on Aug. 27.\n",
      "November 1, 2022\n",
      "NASA Prepares to Say 'Farewell' to InSight Spacecraft\n",
      "A closer look at what goes into wrapping up the mission as the spacecraft’s power supply continues to dwindle.\n",
      "October 28, 2022\n",
      "NASA and ESA Agree on Next Steps to Return Mars Samples to Earth\n",
      "The agency’s Perseverance rover will establish the first sample depot on Mars.\n",
      "October 27, 2022\n",
      "NASA's InSight Lander Detects Stunning Meteoroid Impact on Mars\n",
      "The agency’s lander felt the ground shake during the impact while cameras aboard the Mars Reconnaissance Orbiter spotted the yawning new crater from space.\n",
      "October 21, 2022\n",
      "NASA To Host Briefing on InSight, Mars Reconnaissance Orbiter Findings\n",
      "Scientists from two Mars missions will discuss how they combined images and data for a major finding on the Red Planet.\n",
      "October 20, 2022\n",
      "Why NASA Is Trying To Crash Land on Mars\n",
      "Like a car’s crumple zone, the experimental SHIELD lander is designed to absorb a hard impact.\n",
      "October 19, 2022\n",
      "Curiosity Mars Rover Reaches Long-Awaited Salty Region\n",
      "After years of climbing, the Mars rover has arrived at a special region believed to have formed as Mars’ climate was drying.\n",
      "October 12, 2022\n",
      "Mars Mission Shields Up for Tests\n",
      "Protecting Mars Sample Return spacecraft from micrometeorites requires high-caliber work.\n",
      "October 7, 2022\n",
      "NASA's InSight Waits Out Dust Storm\n",
      "InSight’s team is taking steps to help the solar-powered lander continue operating for as long as possible.\n",
      "September 19, 2022\n",
      "NASA's InSight 'Hears' Its First Meteoroid Impacts on Mars\n",
      "The Mars lander’s seismometer has picked up vibrations from four separate impacts in the past two years.\n",
      "September 15, 2022\n",
      "NASA's Perseverance Rover Investigates Geologically Rich Mars Terrain\n",
      "The latest findings provide greater detail on a region of the Red Planet that has a watery past and is yielding promising samples for the NASA-ESA Mars Sample Return campaign.\n",
      "September 12, 2022\n",
      "NASA to Host Briefing on Perseverance Mars Rover Mission Operations\n",
      "Members of the mission will discuss the rover’s activities as it gathers samples in an ancient river delta.\n",
      "August 25, 2022\n",
      "NASA's Perseverance Makes New Discoveries in Mars' Jezero Crater\n",
      "The rover found that Jezero Crater’s floor is made up of volcanic rocks that have interacted with water.\n",
      "August 5, 2022\n",
      "10 Years Since Landing, NASA's Curiosity Mars Rover Still Has Drive\n",
      "Despite signs of wear, the intrepid spacecraft is about to start an exciting new chapter of its mission as it climbs a Martian mountain.\n",
      "August 4, 2022\n",
      "SAM's Top 5 Discoveries Aboard NASA's Curiosity Rover at Mars\n",
      "“Selfie” of the Curiosity rover with inset showing the SAM instrument prior to installation on the rover.\n",
      "More\n",
      "You Might Also Like\n",
      "NASA Marks 25 Years Since Pathfinder Touched Down on Mars\n",
      "NASA's Perseverance Rover Captures Video of Solar Eclipse on Mars\n",
      "NASA, UAE Mars Missions Agree to Share Science Data\n",
      "The Red Planet\n",
      "Dashboard\n",
      "Science Goals\n",
      "The Planet\n",
      "The Program\n",
      "Mission Statement\n",
      "About the Program\n",
      "Organization Why Mars?\n",
      "Multimedia\n",
      "Images\n",
      "Videos\n",
      "More Resources\n",
      "Missions\n",
      "Past\n",
      "Present\n",
      "Future\n",
      "Images and news content extracted from NASA's Mars News website on November 9, 2022.\n",
      "Images used in accordance with the JPL Image Use Policy.\n",
      "This site is operated by edX Boot Camps LLC for educational purposes only.\n",
      "This is not a website endorsed by NASA. This website is intended only for internal academic purposes.\n",
      "[{'Preview': 'For the first time in its eight years orbiting Mars, NASA’s '\n",
      "             'MAVEN mission witnessed two different types of ultraviolet '\n",
      "             'aurorae simultaneously, the result of solar storms that began on '\n",
      "             'Aug. 27.',\n",
      "  'Title': \"NASA's MAVEN Observes Martian Light Show Caused by Major Solar \"\n",
      "           'Storm'},\n",
      " {'Preview': 'A closer look at what goes into wrapping up the mission as the '\n",
      "             'spacecraft’s power supply continues to dwindle.',\n",
      "  'Title': \"NASA Prepares to Say 'Farewell' to InSight Spacecraft\"},\n",
      " {'Preview': 'The agency’s Perseverance rover will establish the first sample '\n",
      "             'depot on Mars.',\n",
      "  'Title': 'NASA and ESA Agree on Next Steps to Return Mars Samples to Earth'},\n",
      " {'Preview': 'The agency’s lander felt the ground shake during the impact '\n",
      "             'while cameras aboard the Mars Reconnaissance Orbiter spotted the '\n",
      "             'yawning new crater from space.',\n",
      "  'Title': \"NASA's InSight Lander Detects Stunning Meteoroid Impact on Mars\"},\n",
      " {'Preview': 'Scientists from two Mars missions will discuss how they combined '\n",
      "             'images and data for a major finding on the Red Planet.',\n",
      "  'Title': 'NASA To Host Briefing on InSight, Mars Reconnaissance Orbiter '\n",
      "           'Findings'},\n",
      " {'Preview': 'Like a car’s crumple zone, the experimental SHIELD lander is '\n",
      "             'designed to absorb a hard impact.',\n",
      "  'Title': 'Why NASA Is Trying To Crash Land on Mars'},\n",
      " {'Preview': 'After years of climbing, the Mars rover has arrived at a special '\n",
      "             'region believed to have formed as Mars’ climate was drying.',\n",
      "  'Title': 'Curiosity Mars Rover Reaches Long-Awaited Salty Region'},\n",
      " {'Preview': 'Protecting Mars Sample Return spacecraft from micrometeorites '\n",
      "             'requires high-caliber work.',\n",
      "  'Title': 'Mars Mission Shields Up for Tests'},\n",
      " {'Preview': 'InSight’s team is taking steps to help the solar-powered lander '\n",
      "             'continue operating for as long as possible.',\n",
      "  'Title': \"NASA's InSight Waits Out Dust Storm\"},\n",
      " {'Preview': 'The Mars lander’s seismometer has picked up vibrations from four '\n",
      "             'separate impacts in the past two years.',\n",
      "  'Title': \"NASA's InSight 'Hears' Its First Meteoroid Impacts on Mars\"},\n",
      " {'Preview': 'The latest findings provide greater detail on a region of the '\n",
      "             'Red Planet that has a watery past and is yielding promising '\n",
      "             'samples for the NASA-ESA Mars Sample Return campaign.',\n",
      "  'Title': \"NASA's Perseverance Rover Investigates Geologically Rich Mars \"\n",
      "           'Terrain'},\n",
      " {'Preview': 'Members of the mission will discuss the rover’s activities as it '\n",
      "             'gathers samples in an ancient river delta.',\n",
      "  'Title': 'NASA to Host Briefing on Perseverance Mars Rover Mission '\n",
      "           'Operations'},\n",
      " {'Preview': 'The rover found that Jezero Crater’s floor is made up of '\n",
      "             'volcanic rocks that have interacted with water.',\n",
      "  'Title': \"NASA's Perseverance Makes New Discoveries in Mars' Jezero Crater\"},\n",
      " {'Preview': 'Despite signs of wear, the intrepid spacecraft is about to start '\n",
      "             'an exciting new chapter of its mission as it climbs a Martian '\n",
      "             'mountain.',\n",
      "  'Title': \"10 Years Since Landing, NASA's Curiosity Mars Rover Still Has \"\n",
      "           'Drive'},\n",
      " {'Preview': '“Selfie” of the Curiosity rover with inset showing the SAM '\n",
      "             'instrument prior to installation on the rover.',\n",
      "  'Title': \"SAM's Top 5 Discoveries Aboard NASA's Curiosity Rover at Mars\"}]\n"
     ]
    }
   ],
   "source": [
    "# Extract all the text elements\n",
    "\n",
    "text_elements = soup_marsnews.get_text()\n",
    "text_elements\n",
    "lines=(line.strip() for line in text_elements.splitlines())\n",
    "all_text = '\\n'.join(e for e in lines if e)\n",
    "print(all_text)\n",
    "\n",
    "\n",
    "title_element_list = []\n",
    "for x in title_elements:\n",
    "    title_element_list.append(x.text)\n",
    "title_element_list\n",
    "\n",
    "pre_list = []\n",
    "\n",
    "for x in elements:\n",
    "   title_element = x.find('div', class_ ='content_title').text\n",
    "   preview_element = (x.find('div',class_ = 'article_teaser_body').text)             \n",
    "   final_dict = { 'Title': title_element, \n",
    "                  'Preview': preview_element\n",
    "                   }\n",
    "\n",
    "   pre_list.append(final_dict)\n",
    "\n",
    "   \n",
    "prep.pprint(pre_list)"
   ]
  },
  {
   "cell_type": "markdown",
   "metadata": {},
   "source": [
    "### Step 3: Store the Results\n",
    "\n",
    "Extract the titles and preview text of the news articles that you scraped. Store the scraping results in Python data structures as follows:\n",
    "\n",
    "* Store each title-and-preview pair in a Python dictionary. And, give each dictionary two keys: `title` and `preview`. An example is the following:\n",
    "\n",
    "  ```python\n",
    "  {'title': \"NASA's MAVEN Observes Martian Light Show Caused by Major Solar Storm\", \n",
    "   'preview': \"For the first time in its eight years orbiting Mars, NASA’s MAVEN mission witnessed two different types of ultraviolet aurorae simultaneously, the result of solar storms that began on Aug. 27.\"\n",
    "  }\n",
    "  ```\n",
    "\n",
    "* Store all the dictionaries in a Python list.\n",
    "\n",
    "* Print the list in your notebook."
   ]
  },
  {
   "cell_type": "code",
   "execution_count": 16,
   "metadata": {},
   "outputs": [],
   "source": [
    "# Create an empty list to store the dictionaries\n",
    "pre_list = []\n"
   ]
  },
  {
   "cell_type": "code",
   "execution_count": 17,
   "metadata": {},
   "outputs": [],
   "source": [
    "# Loop through the text elements\n",
    "# Extract the title and preview text from the elements\n",
    "# Store each title and preview pair in a dictionary\n",
    "# Add the dictionary to the list\n",
    "\n",
    "for x in elements:\n",
    "   title_element = x.find('div', class_ ='content_title').text\n",
    "   preview_element = (x.find('div',class_ = 'article_teaser_body').text)             \n",
    "   final_dict = { 'Title': title_element, \n",
    "                  'Preview': preview_element\n",
    "                   }\n",
    "\n",
    "   pre_list.append(final_dict)\n"
   ]
  },
  {
   "cell_type": "code",
   "execution_count": 18,
   "metadata": {},
   "outputs": [
    {
     "name": "stdout",
     "output_type": "stream",
     "text": [
      "[{'Preview': 'For the first time in its eight years orbiting Mars, NASA’s '\n",
      "             'MAVEN mission witnessed two different types of ultraviolet '\n",
      "             'aurorae simultaneously, the result of solar storms that began on '\n",
      "             'Aug. 27.',\n",
      "  'Title': \"NASA's MAVEN Observes Martian Light Show Caused by Major Solar \"\n",
      "           'Storm'},\n",
      " {'Preview': 'A closer look at what goes into wrapping up the mission as the '\n",
      "             'spacecraft’s power supply continues to dwindle.',\n",
      "  'Title': \"NASA Prepares to Say 'Farewell' to InSight Spacecraft\"},\n",
      " {'Preview': 'The agency’s Perseverance rover will establish the first sample '\n",
      "             'depot on Mars.',\n",
      "  'Title': 'NASA and ESA Agree on Next Steps to Return Mars Samples to Earth'},\n",
      " {'Preview': 'The agency’s lander felt the ground shake during the impact '\n",
      "             'while cameras aboard the Mars Reconnaissance Orbiter spotted the '\n",
      "             'yawning new crater from space.',\n",
      "  'Title': \"NASA's InSight Lander Detects Stunning Meteoroid Impact on Mars\"},\n",
      " {'Preview': 'Scientists from two Mars missions will discuss how they combined '\n",
      "             'images and data for a major finding on the Red Planet.',\n",
      "  'Title': 'NASA To Host Briefing on InSight, Mars Reconnaissance Orbiter '\n",
      "           'Findings'},\n",
      " {'Preview': 'Like a car’s crumple zone, the experimental SHIELD lander is '\n",
      "             'designed to absorb a hard impact.',\n",
      "  'Title': 'Why NASA Is Trying To Crash Land on Mars'},\n",
      " {'Preview': 'After years of climbing, the Mars rover has arrived at a special '\n",
      "             'region believed to have formed as Mars’ climate was drying.',\n",
      "  'Title': 'Curiosity Mars Rover Reaches Long-Awaited Salty Region'},\n",
      " {'Preview': 'Protecting Mars Sample Return spacecraft from micrometeorites '\n",
      "             'requires high-caliber work.',\n",
      "  'Title': 'Mars Mission Shields Up for Tests'},\n",
      " {'Preview': 'InSight’s team is taking steps to help the solar-powered lander '\n",
      "             'continue operating for as long as possible.',\n",
      "  'Title': \"NASA's InSight Waits Out Dust Storm\"},\n",
      " {'Preview': 'The Mars lander’s seismometer has picked up vibrations from four '\n",
      "             'separate impacts in the past two years.',\n",
      "  'Title': \"NASA's InSight 'Hears' Its First Meteoroid Impacts on Mars\"},\n",
      " {'Preview': 'The latest findings provide greater detail on a region of the '\n",
      "             'Red Planet that has a watery past and is yielding promising '\n",
      "             'samples for the NASA-ESA Mars Sample Return campaign.',\n",
      "  'Title': \"NASA's Perseverance Rover Investigates Geologically Rich Mars \"\n",
      "           'Terrain'},\n",
      " {'Preview': 'Members of the mission will discuss the rover’s activities as it '\n",
      "             'gathers samples in an ancient river delta.',\n",
      "  'Title': 'NASA to Host Briefing on Perseverance Mars Rover Mission '\n",
      "           'Operations'},\n",
      " {'Preview': 'The rover found that Jezero Crater’s floor is made up of '\n",
      "             'volcanic rocks that have interacted with water.',\n",
      "  'Title': \"NASA's Perseverance Makes New Discoveries in Mars' Jezero Crater\"},\n",
      " {'Preview': 'Despite signs of wear, the intrepid spacecraft is about to start '\n",
      "             'an exciting new chapter of its mission as it climbs a Martian '\n",
      "             'mountain.',\n",
      "  'Title': \"10 Years Since Landing, NASA's Curiosity Mars Rover Still Has \"\n",
      "           'Drive'},\n",
      " {'Preview': '“Selfie” of the Curiosity rover with inset showing the SAM '\n",
      "             'instrument prior to installation on the rover.',\n",
      "  'Title': \"SAM's Top 5 Discoveries Aboard NASA's Curiosity Rover at Mars\"}]\n"
     ]
    }
   ],
   "source": [
    "# Print the list to confirm success\n",
    "prep.pprint(pre_list)"
   ]
  },
  {
   "cell_type": "code",
   "execution_count": 19,
   "metadata": {},
   "outputs": [],
   "source": [
    "browser.quit()"
   ]
  },
  {
   "cell_type": "code",
   "execution_count": null,
   "metadata": {},
   "outputs": [],
   "source": []
  }
 ],
 "metadata": {
  "kernelspec": {
   "display_name": "Python 3 (ipykernel)",
   "language": "python",
   "name": "python3"
  },
  "language_info": {
   "codemirror_mode": {
    "name": "ipython",
    "version": 3
   },
   "file_extension": ".py",
   "mimetype": "text/x-python",
   "name": "python",
   "nbconvert_exporter": "python",
   "pygments_lexer": "ipython3",
   "version": "3.10.13"
  },
  "vscode": {
   "interpreter": {
    "hash": "31f2aee4e71d21fbe5cf8b01ff0e069b9275f58929596ceb00d14d90e3e16cd6"
   }
  }
 },
 "nbformat": 4,
 "nbformat_minor": 4
}
